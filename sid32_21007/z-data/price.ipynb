{
 "cells": [
  {
   "cell_type": "code",
   "execution_count": 24,
   "id": "1d11cbf9-57d4-4802-978d-5da52109c906",
   "metadata": {},
   "outputs": [],
   "source": [
    "import pandas as pd\n",
    "import random\n",
    "from datetime import datetime, timedelta\n",
    "\n",
    "# Sample data for products\n",
    "product_names = [\n",
    "    \"Organic Whole Wheat Bread\",\n",
    "    \"Red Delicious Apples\",\n",
    "    \"Premium Dark Chocolate Bar\",\n",
    "    \"Stainless Steel Water Bottle\",\n",
    "    \"Recycled Paper Towels\",\n",
    "    \"Soft Cotton T-Shirt\",\n",
    "    \"Wireless Earbuds\",\n",
    "    \"Mountain Bike\",\n",
    "    \"Travel Backpack\",\n",
    "    \"Fair Trade Coffee Beans\",\n",
    "]\n",
    "\n",
    "# Sample data for selling points\n",
    "selling_points = [1, 2, 5, 6, 8, 9, 10, 11]\n",
    "\n",
    "# Sample DataFrame\n",
    "data = {\n",
    "    'value': [round(random.uniform(5, 50), 2) for _ in range(100)],\n",
    "    'date': [datetime(2022, 1, 1) + timedelta(days=i) for i in range(100)],\n",
    "    'sellingpoint': [random.choice(selling_points) for _ in range(100)],\n",
    "    'product': [random.choice(product_names) for _ in range(100)],\n",
    "}\n",
    "\n",
    "df = pd.DataFrame(data)\n",
    "\n"
   ]
  },
  {
   "cell_type": "code",
   "execution_count": 25,
   "id": "7f6d178d-aae5-4d99-a1b5-84a397749f87",
   "metadata": {},
   "outputs": [],
   "source": [
    "# Changing date format to 'YYYY-MM-DD'\n",
    "df['date'] = pd.to_datetime(df['date']).dt.strftime('%Y-%m-%d')"
   ]
  },
  {
   "cell_type": "code",
   "execution_count": 26,
   "id": "32e7b2c7-3901-42ce-91b1-6f519342bee4",
   "metadata": {},
   "outputs": [
    {
     "data": {
      "text/html": [
       "<div>\n",
       "<style scoped>\n",
       "    .dataframe tbody tr th:only-of-type {\n",
       "        vertical-align: middle;\n",
       "    }\n",
       "\n",
       "    .dataframe tbody tr th {\n",
       "        vertical-align: top;\n",
       "    }\n",
       "\n",
       "    .dataframe thead th {\n",
       "        text-align: right;\n",
       "    }\n",
       "</style>\n",
       "<table border=\"1\" class=\"dataframe\">\n",
       "  <thead>\n",
       "    <tr style=\"text-align: right;\">\n",
       "      <th></th>\n",
       "      <th>value</th>\n",
       "      <th>date</th>\n",
       "      <th>sellingpoint</th>\n",
       "      <th>product</th>\n",
       "    </tr>\n",
       "  </thead>\n",
       "  <tbody>\n",
       "    <tr>\n",
       "      <th>95</th>\n",
       "      <td>34.51</td>\n",
       "      <td>2022-04-06</td>\n",
       "      <td>8</td>\n",
       "      <td>Wireless Earbuds</td>\n",
       "    </tr>\n",
       "    <tr>\n",
       "      <th>96</th>\n",
       "      <td>31.35</td>\n",
       "      <td>2022-04-07</td>\n",
       "      <td>1</td>\n",
       "      <td>Premium Dark Chocolate Bar</td>\n",
       "    </tr>\n",
       "    <tr>\n",
       "      <th>97</th>\n",
       "      <td>16.50</td>\n",
       "      <td>2022-04-08</td>\n",
       "      <td>9</td>\n",
       "      <td>Fair Trade Coffee Beans</td>\n",
       "    </tr>\n",
       "    <tr>\n",
       "      <th>98</th>\n",
       "      <td>16.66</td>\n",
       "      <td>2022-04-09</td>\n",
       "      <td>10</td>\n",
       "      <td>Travel Backpack</td>\n",
       "    </tr>\n",
       "    <tr>\n",
       "      <th>99</th>\n",
       "      <td>48.65</td>\n",
       "      <td>2022-04-10</td>\n",
       "      <td>9</td>\n",
       "      <td>Stainless Steel Water Bottle</td>\n",
       "    </tr>\n",
       "  </tbody>\n",
       "</table>\n",
       "</div>"
      ],
      "text/plain": [
       "    value        date  sellingpoint                       product\n",
       "95  34.51  2022-04-06             8              Wireless Earbuds\n",
       "96  31.35  2022-04-07             1    Premium Dark Chocolate Bar\n",
       "97  16.50  2022-04-08             9       Fair Trade Coffee Beans\n",
       "98  16.66  2022-04-09            10               Travel Backpack\n",
       "99  48.65  2022-04-10             9  Stainless Steel Water Bottle"
      ]
     },
     "execution_count": 26,
     "metadata": {},
     "output_type": "execute_result"
    }
   ],
   "source": [
    "df.tail()"
   ]
  },
  {
   "cell_type": "code",
   "execution_count": 27,
   "id": "7b4cd48b-7107-43d8-aec4-9f6f06e72ffc",
   "metadata": {},
   "outputs": [],
   "source": [
    "\n",
    "# Save DataFrame to CSV\n",
    "df.to_csv('price_data.csv', index=False)"
   ]
  },
  {
   "cell_type": "code",
   "execution_count": null,
   "id": "ef11c30f-fea8-40fe-aec1-037586134ae1",
   "metadata": {},
   "outputs": [],
   "source": [
    " It must be in YYYY-MM-DD format.']"
   ]
  },
  {
   "cell_type": "code",
   "execution_count": 2,
   "id": "4f3be91a-9988-4201-8205-dc6193a29450",
   "metadata": {},
   "outputs": [],
   "source": [
    "dt= df.iloc[:2,:]"
   ]
  },
  {
   "cell_type": "code",
   "execution_count": 4,
   "id": "8fc3293b-2223-4452-b6dd-0355c235b470",
   "metadata": {},
   "outputs": [],
   "source": [
    "dt.to_csv('price2rows.csv', index=False)"
   ]
  },
  {
   "cell_type": "code",
   "execution_count": null,
   "id": "27a2ae06-fa8f-40ca-874e-b4f6519662c3",
   "metadata": {},
   "outputs": [],
   "source": []
  }
 ],
 "metadata": {
  "kernelspec": {
   "display_name": "Python 3 (ipykernel)",
   "language": "python",
   "name": "python3"
  },
  "language_info": {
   "codemirror_mode": {
    "name": "ipython",
    "version": 3
   },
   "file_extension": ".py",
   "mimetype": "text/x-python",
   "name": "python",
   "nbconvert_exporter": "python",
   "pygments_lexer": "ipython3",
   "version": "3.8.15"
  }
 },
 "nbformat": 4,
 "nbformat_minor": 5
}
